{
 "cells": [
  {
   "cell_type": "markdown",
   "id": "cd36ae86",
   "metadata": {},
   "source": [
    "# Object Detection and Distance Measurement"
   ]
  },
  {
   "cell_type": "markdown",
   "id": "e3e3300f",
   "metadata": {},
   "source": [
    "Detecting an object and finding its distance from camera"
   ]
  },
  {
   "cell_type": "markdown",
   "id": "244d7f30",
   "metadata": {},
   "source": [
    " "
   ]
  },
  {
   "cell_type": "markdown",
   "id": "fa4b2378",
   "metadata": {},
   "source": [
    "### Detecting Rectangle Shapes and Finding Contours in an Image"
   ]
  },
  {
   "cell_type": "code",
   "execution_count": 1,
   "id": "a7b09fb3",
   "metadata": {},
   "outputs": [],
   "source": [
    "import cv2 as cv\n",
    "import numpy as np"
   ]
  },
  {
   "cell_type": "code",
   "execution_count": 2,
   "id": "c6f61260",
   "metadata": {},
   "outputs": [],
   "source": [
    "def find_marker(image):\n",
    "\n",
    "    gray = cv.cvtColor(image, cv.COLOR_BGR2GRAY)\n",
    "    gray = cv.GaussianBlur(gray, (5, 5), 0)\n",
    "    edged = cv.Canny(gray, 35, 125)\n",
    "\n",
    "    contours, hierarchy = cv.findContours(edged.copy(), cv.RETR_LIST, cv.CHAIN_APPROX_SIMPLE)\n",
    "\n",
    "    cnts = max(contours, key = cv.contourArea)\n",
    "\n",
    "    return cv.minAreaRect(cnts)"
   ]
  },
  {
   "cell_type": "markdown",
   "id": "ac7f29ca",
   "metadata": {},
   "source": [
    "### Triangle Similarity"
   ]
  },
  {
   "cell_type": "markdown",
   "id": "9630f812",
   "metadata": {},
   "source": [
    "F = Focal Length,\n",
    "P = Perceived Width,\n",
    "D = Known Distance,\n",
    "D’= Distance,\n",
    "W = Known Width\n",
    "\n",
    "F = (P x D) / W\n",
    "\n",
    "D’ = (W x F) / P"
   ]
  },
  {
   "cell_type": "code",
   "execution_count": 3,
   "id": "36ba9d2b",
   "metadata": {},
   "outputs": [],
   "source": [
    "def distance_to_camera(knownWidth, focalLength, perWidth):\n",
    "\n",
    "    return (knownWidth * focalLength) / perWidth"
   ]
  },
  {
   "cell_type": "code",
   "execution_count": 4,
   "id": "967da26d",
   "metadata": {},
   "outputs": [],
   "source": [
    "KNOWN_DISTANCE = 60.0\n",
    "KNOWN_WIDTH = 30.0\n",
    "\n",
    "capture =  cv.VideoCapture(0)\n",
    "isTrue, image = capture.read()\n",
    "\n",
    "marker = find_marker(image)\n",
    "focalLength = (marker[1][0] * KNOWN_DISTANCE) / KNOWN_WIDTH"
   ]
  },
  {
   "cell_type": "markdown",
   "id": "88e43b07",
   "metadata": {},
   "source": [
    "### Application in real-time Webcam "
   ]
  },
  {
   "cell_type": "code",
   "execution_count": 5,
   "id": "7dc6150b",
   "metadata": {},
   "outputs": [],
   "source": [
    "while True:\n",
    "\n",
    "    isTrue, image = capture.read()\n",
    "\n",
    "    marker = find_marker(image)\n",
    "    cm = distance_to_camera(KNOWN_WIDTH, focalLength, marker[1][0])\n",
    "\n",
    "    cv.putText(image, \"%.1fcm\" % cm, (image.shape[1] - 350, image.shape[0] - 15), cv.FONT_HERSHEY_SIMPLEX, 2.0, (0, 255, 0), 3)\n",
    "    \n",
    "    box = cv.boxPoints(marker) \n",
    "    box = np.int0(box)\n",
    "    cv.drawContours(image,[box], -1, (0,255,0), 2)\n",
    "  \n",
    "    cv.imshow(\"image\", image)\n",
    "    \n",
    "    key = cv.waitKey(1)\n",
    "    if key == 27:\n",
    "        break"
   ]
  },
  {
   "cell_type": "code",
   "execution_count": 6,
   "id": "9d5fab77",
   "metadata": {},
   "outputs": [],
   "source": [
    "capture.release()\n",
    "\n",
    "cv.destroyAllWindows()"
   ]
  }
 ],
 "metadata": {
  "kernelspec": {
   "display_name": "Python 3 (ipykernel)",
   "language": "python",
   "name": "python3"
  },
  "language_info": {
   "codemirror_mode": {
    "name": "ipython",
    "version": 3
   },
   "file_extension": ".py",
   "mimetype": "text/x-python",
   "name": "python",
   "nbconvert_exporter": "python",
   "pygments_lexer": "ipython3",
   "version": "3.10.6"
  }
 },
 "nbformat": 4,
 "nbformat_minor": 5
}
