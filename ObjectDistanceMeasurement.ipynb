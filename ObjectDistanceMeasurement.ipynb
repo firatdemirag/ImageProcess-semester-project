{
 "cells": [
  {
   "cell_type": "markdown",
   "id": "3fb76d18",
   "metadata": {},
   "source": [
    "## Object Detection and Distance Measurement"
   ]
  },
  {
   "cell_type": "markdown",
   "id": "16183c83",
   "metadata": {},
   "source": [
    "Detecting an object and finding its distance from camera"
   ]
  },
  {
   "cell_type": "code",
   "execution_count": null,
   "id": "8f21b833",
   "metadata": {},
   "outputs": [],
   "source": []
  },
  {
   "cell_type": "code",
   "execution_count": 2,
   "id": "a7b09fb3",
   "metadata": {},
   "outputs": [],
   "source": [
    "import cv2"
   ]
  },
  {
   "cell_type": "code",
   "execution_count": 5,
   "id": "c6f61260",
   "metadata": {},
   "outputs": [],
   "source": [
    "def find_marker(image):\n",
    "\n",
    "    gray = cv2.cvtColor(image, cv2.COLOR_BGR2GRAY)\n",
    "    gray = cv2.GaussianBlur(gray, (5, 5), 0)\n",
    "    edged = cv2.Canny(gray, 35, 125)\n",
    "\n",
    "    cnts, hierarchy = cv2.findContours(edged.copy(), cv2.RETR_LIST, cv2.CHAIN_APPROX_SIMPLE)\n",
    "\n",
    "    c = max(cnts, key = cv2.contourArea)\n",
    "\n",
    "    return cv2.minAreaRect(c)"
   ]
  },
  {
   "cell_type": "code",
   "execution_count": 7,
   "id": "36ba9d2b",
   "metadata": {},
   "outputs": [],
   "source": [
    "def distance_to_camera(knownWidth, focalLength, perWidth):\n",
    "\n",
    "    return (knownWidth * focalLength) / perWidth"
   ]
  },
  {
   "cell_type": "code",
   "execution_count": 10,
   "id": "967da26d",
   "metadata": {},
   "outputs": [],
   "source": [
    "KNOWN_DISTANCE = 60.0\n",
    "\n",
    "KNOWN_WIDTH = 30.0\n",
    "\n",
    "cap =  cv2.VideoCapture(0)\n",
    "_,image = cap.read()\n",
    "\n",
    "\n",
    "marker = find_marker(image)\n",
    "focalLength = (marker[1][0] * KNOWN_DISTANCE) / KNOWN_WIDTH"
   ]
  },
  {
   "cell_type": "code",
   "execution_count": 12,
   "id": "7dc6150b",
   "metadata": {},
   "outputs": [],
   "source": [
    "while True:\n",
    "\n",
    "    _,image = cap.read()\n",
    "\n",
    "    marker = find_marker(image)\n",
    "    cm = distance_to_camera(KNOWN_WIDTH, focalLength, marker[1][0])\n",
    "\n",
    "    cv2.putText(image, \"%.1fcm\" % cm,\n",
    "                    (image.shape[1] - 350, image.shape[0] - 15), cv2.FONT_HERSHEY_SIMPLEX,\n",
    "                    2.0, (0, 255, 0), 3)\n",
    "    \n",
    "    cv2.imshow(\"image\", image)\n",
    "    \n",
    "    key = cv2.waitKey(1)\n",
    "    if key == 27:\n",
    "        break"
   ]
  },
  {
   "cell_type": "code",
   "execution_count": 13,
   "id": "9d5fab77",
   "metadata": {},
   "outputs": [],
   "source": [
    "cv2.destroyAllWindows()"
   ]
  }
 ],
 "metadata": {
  "kernelspec": {
   "display_name": "Python 3 (ipykernel)",
   "language": "python",
   "name": "python3"
  },
  "language_info": {
   "codemirror_mode": {
    "name": "ipython",
    "version": 3
   },
   "file_extension": ".py",
   "mimetype": "text/x-python",
   "name": "python",
   "nbconvert_exporter": "python",
   "pygments_lexer": "ipython3",
   "version": "3.10.6"
  }
 },
 "nbformat": 4,
 "nbformat_minor": 5
}
